{
 "cells": [
  {
   "cell_type": "code",
   "execution_count": 1,
   "id": "d0d3fcef",
   "metadata": {},
   "outputs": [],
   "source": [
    "#load all the required libraries\n",
    "from bs4 import BeautifulSoup\n",
    "import requests\n",
    "import time\n",
    "import datetime\n",
    "import smtplib"
   ]
  },
  {
   "cell_type": "code",
   "execution_count": 2,
   "id": "37db0469",
   "metadata": {},
   "outputs": [],
   "source": [
    "# connect to the website\n",
    "url = \"https://www.amazon.co.uk/Callaway-Strata-Complete-Piece-Package/dp/B07H2CKPJV/ref=sr_1_1?dchild=1&keywords=golf%2Bsets%2Bmens%2Bright%2Bhand%2Bfull%2Bset&qid=1635089931&sprefix=golf%2Bset%2Caps%2C245&sr=8-1&th=1\"\n",
    "\n",
    "# create headers from httpbin.org/get\n",
    "headers = {\"User-Agent\": \"Mozilla/5.0 (Windows NT 10.0; Win64; x64) AppleWebKit/537.36 (KHTML, like Gecko) Chrome/100.0.4896.127 Safari/537.36\"}\n",
    "\n",
    "# send get information request to the website\n",
    "page = requests.get(url, headers = headers)\n",
    "\n",
    "soup1 = BeautifulSoup(page.content, \"html.parser\") #obtain the data from the website\n",
    "soup2 = BeautifulSoup(soup1.prettify(), \"html.parser\") #put the html data into a better format\n",
    "\n",
    "title = soup2.find(id='productTitle').get_text() #get the title of the product\n",
    "price = soup2.find(id='corePriceDisplay_desktop_feature_div').get_text() #get the price for the object [id for price is not available, had to use the overarching id (get the full price and the parts its consists of)]\n"
   ]
  },
  {
   "cell_type": "code",
   "execution_count": 3,
   "id": "1bd3990a",
   "metadata": {},
   "outputs": [],
   "source": [
    "price = price.strip()[1:7] #only included the end range due to the chracters imported in the price object \n",
    "#price value will change per execution of code in this block\n",
    "title = title.strip()\n"
   ]
  },
  {
   "cell_type": "code",
   "execution_count": 4,
   "id": "e07a7ab2",
   "metadata": {},
   "outputs": [],
   "source": [
    "# add a timestamp to show when the data was scraped\n",
    "today = datetime.date.today()\n",
    "#print(today)"
   ]
  },
  {
   "cell_type": "code",
   "execution_count": 5,
   "id": "39837158",
   "metadata": {},
   "outputs": [],
   "source": [
    "#create a csv file with the data from the website\n",
    "import csv\n",
    "\n",
    "# place the desired headers and data (already saved above) in seperate lists\n",
    "header = ['Product Title', 'Price', 'Date']\n",
    "data = [title, price, today]\n",
    "\n",
    "#create a new csv file and writing the above lists' data onto the file\n",
    "with open('AmazonWebScraping.csv', 'w', newline='', encoding = 'UTF8') as f:\n",
    "    writer = csv.writer(f)\n",
    "    writer.writerow(header)\n",
    "    writer.writerow(data)"
   ]
  },
  {
   "cell_type": "code",
   "execution_count": 6,
   "id": "0aeddae9",
   "metadata": {},
   "outputs": [
    {
     "name": "stdout",
     "output_type": "stream",
     "text": [
      "Defaulting to user installation because normal site-packages is not writeable\n",
      "Requirement already satisfied: pandas in c:\\users\\rielp\\appdata\\roaming\\python\\python39\\site-packages (1.4.2)\n",
      "Requirement already satisfied: pytz>=2020.1 in c:\\users\\rielp\\appdata\\roaming\\python\\python39\\site-packages (from pandas) (2022.1)\n",
      "Requirement already satisfied: numpy>=1.18.5 in c:\\users\\rielp\\appdata\\roaming\\python\\python39\\site-packages (from pandas) (1.20.2)\n",
      "Requirement already satisfied: python-dateutil>=2.8.1 in c:\\users\\rielp\\appdata\\roaming\\python\\python39\\site-packages (from pandas) (2.8.2)\n",
      "Requirement already satisfied: six>=1.5 in c:\\users\\rielp\\appdata\\roaming\\python\\python39\\site-packages (from python-dateutil>=2.8.1->pandas) (1.15.0)\n"
     ]
    }
   ],
   "source": [
    "#install pandas library [got a ModuleError]\n",
    "!pip install pandas"
   ]
  },
  {
   "cell_type": "code",
   "execution_count": 7,
   "id": "fc010127",
   "metadata": {},
   "outputs": [
    {
     "name": "stdout",
     "output_type": "stream",
     "text": [
      "                        Product Title   Price        Date\n",
      "0  Strata Men's Golf Club Package Set  399.99  2022-04-27\n"
     ]
    }
   ],
   "source": [
    "#check if data is appended without opening the csv file\n",
    "import pandas as pd\n",
    "file = pd.read_csv(r\"C:/Users/rielp/Data Analytics Projects/AmazonWebScraping.csv\")\n",
    "print(file)"
   ]
  },
  {
   "cell_type": "code",
   "execution_count": 8,
   "id": "7436c1bf",
   "metadata": {},
   "outputs": [],
   "source": [
    "#append data to the csv file\n",
    "with open('AmazonWebScraping.csv', 'a+', newline='', encoding = 'UTF8') as f:\n",
    "    writer = csv.writer(f)\n",
    "    writer.writerow(data)"
   ]
  },
  {
   "cell_type": "code",
   "execution_count": 9,
   "id": "8ad9e127",
   "metadata": {},
   "outputs": [],
   "source": [
    "#create function to update the price daily\n",
    "\n",
    "def check_price():\n",
    "    url = \"https://www.amazon.co.uk/Callaway-Strata-Complete-Piece-Package/dp/B07H2CKPJV/ref=sr_1_1?dchild=1&keywords=golf%2Bsets%2Bmens%2Bright%2Bhand%2Bfull%2Bset&qid=1635089931&sprefix=golf%2Bset%2Caps%2C245&sr=8-1&th=1\"\n",
    "    headers = {\"User-Agent\": \"Mozilla/5.0 (Windows NT 10.0; Win64; x64) AppleWebKit/537.36 (KHTML, like Gecko) Chrome/100.0.4896.127 Safari/537.36\"}\n",
    "    page = requests.get(url, headers = headers)\n",
    "    soup1 = BeautifulSoup(page.content, \"html.parser\") \n",
    "    soup2 = BeautifulSoup(soup1.prettify(), \"html.parser\") \n",
    "    title = soup2.find(id='productTitle').get_text()\n",
    "    price = soup2.find(id='corePriceDisplay_desktop_feature_div').get_text()\n",
    "    today = datetime.date.today()\n",
    "    header = ['Product Title', 'Price', 'Date']\n",
    "    data = [title, price, today]\n",
    "    with open('AmazonWebScraping.csv', 'a+', newline='', encoding = 'UTF8') as f:\n",
    "        writer = csv.writer(f)\n",
    "        writer.writerow(data)"
   ]
  },
  {
   "cell_type": "code",
   "execution_count": null,
   "id": "d4572c37",
   "metadata": {},
   "outputs": [],
   "source": [
    "# run the function every 24h (86400 seconds) to update the price to ensure that it's up to date\n",
    "while True:\n",
    "    check_price()\n",
    "    time.sleep(86400)"
   ]
  },
  {
   "cell_type": "code",
   "execution_count": null,
   "id": "ba64c628",
   "metadata": {},
   "outputs": [],
   "source": []
  }
 ],
 "metadata": {
  "kernelspec": {
   "display_name": "Python 3 (ipykernel)",
   "language": "python",
   "name": "python3"
  },
  "language_info": {
   "codemirror_mode": {
    "name": "ipython",
    "version": 3
   },
   "file_extension": ".py",
   "mimetype": "text/x-python",
   "name": "python",
   "nbconvert_exporter": "python",
   "pygments_lexer": "ipython3",
   "version": "3.9.4"
  }
 },
 "nbformat": 4,
 "nbformat_minor": 5
}
